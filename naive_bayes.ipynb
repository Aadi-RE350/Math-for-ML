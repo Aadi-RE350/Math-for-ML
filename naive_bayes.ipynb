{
 "cells": [
  {
   "cell_type": "code",
   "execution_count": 9,
   "id": "b68d1c1e",
   "metadata": {},
   "outputs": [],
   "source": [
    "import numpy as np\n",
    "import pandas as pd\n",
    "from sklearn import datasets\n",
    "from sklearn.model_selection import train_test_split, cross_val_score\n",
    "from sklearn.naive_bayes import GaussianNB\n",
    "from sklearn.metrics import accuracy_score, classification_report, confusion_matrix\n",
    "import matplotlib.pyplot as plt\n"
   ]
  },
  {
   "cell_type": "code",
   "execution_count": 10,
   "id": "7763cc23",
   "metadata": {},
   "outputs": [],
   "source": [
    "def plot_confusion_matrix(cm, labels, title=\"Confusion matrix\"):\n",
    "    \"\"\"\n",
    "    Simple confusion matrix heatmap using matplotlib.\n",
    "    \"\"\"\n",
    "    import matplotlib.pyplot as plt\n",
    "    import numpy as np\n",
    "\n",
    "    fig, ax = plt.subplots(figsize=(6, 5))\n",
    "    im = ax.imshow(cm, interpolation='nearest')\n",
    "    ax.set_title(title)\n",
    "    ax.set_xlabel(\"Predicted label\")\n",
    "    ax.set_ylabel(\"True label\")\n",
    "\n",
    "    # Tick labels\n",
    "    ax.set_xticks(np.arange(len(labels)))\n",
    "    ax.set_yticks(np.arange(len(labels)))\n",
    "    ax.set_xticklabels(labels, rotation=45, ha='right')\n",
    "    ax.set_yticklabels(labels)\n",
    "\n",
    "    # Annotate each cell with the numeric value\n",
    "    thresh = cm.max() / 2.0 if cm.max() > 0 else 0.5\n",
    "    for i in range(cm.shape[0]):\n",
    "        for j in range(cm.shape[1]):\n",
    "            ax.text(j, i, format(cm[i, j], 'd'),\n",
    "                    ha=\"center\", va=\"center\",\n",
    "                    color=\"white\" if cm[i, j] > thresh else \"black\")\n",
    "\n",
    "    fig.colorbar(im, ax=ax)\n",
    "    plt.tight_layout()\n",
    "    plt.show()\n",
    "\n",
    "\n"
   ]
  },
  {
   "cell_type": "code",
   "execution_count": 11,
   "id": "4bafb3fb",
   "metadata": {},
   "outputs": [],
   "source": [
    "def main():\n",
    "    # 1. Load dataset\n",
    "    iris = datasets.load_iris()\n",
    "    X = iris.data                # shape (150, 4)\n",
    "    y = iris.target              # shape (150,)\n",
    "    feature_names = iris.feature_names\n",
    "    target_names = iris.target_names\n",
    "\n",
    "    # 2. Optional: quick DataFrame preview\n",
    "    df = pd.DataFrame(X, columns=feature_names)\n",
    "    df['target'] = y\n",
    "    df['target_name'] = [target_names[i] for i in y]\n",
    "    print(\"=== Data sample ===\")\n",
    "    print(df.head(8).to_string(index=False))\n",
    "    print()\n",
    "\n",
    "    # 3. Class mapping (clean python types)\n",
    "    class_mapping = {int(k): str(v) for k, v in enumerate(target_names)}\n",
    "    print(\"Class mapping:\", class_mapping)\n",
    "    print()\n",
    "\n",
    "    # 4. Train/test split (stratified)\n",
    "    X_train, X_test, y_train, y_test = train_test_split(\n",
    "        X, y, test_size=0.25, stratify=y\n",
    "    )\n",
    "\n",
    "    # 5. Train Gaussian Naive Bayes\n",
    "    model = GaussianNB()\n",
    "    model.fit(X_train, y_train)\n",
    "\n",
    "    # 6. Predict on test set\n",
    "    y_pred = model.predict(X_test)\n",
    "\n",
    "    # 7. Metrics\n",
    "    acc = accuracy_score(y_test, y_pred)\n",
    "    print(f\"Test accuracy: {acc:.4f}\")\n",
    "    print()\n",
    "    print(\"Classification report:\")\n",
    "    print(classification_report(y_test, y_pred, target_names=target_names))\n",
    "    print(\"Confusion matrix:\")\n",
    "    cm = confusion_matrix(y_test, y_pred)\n",
    "    print(cm)\n",
    "    print()\n",
    "\n",
    "    # 8. 5-fold cross validation on full dataset\n",
    "    cv_scores = cross_val_score(model, X, y, cv=5)\n",
    "    print(f\"5-fold CV accuracy: mean={cv_scores.mean():.4f}, std={cv_scores.std():.4f}\")\n",
    "    print()\n",
    "\n",
    "    # 9. Plot confusion matrix\n",
    "    plot_confusion_matrix(cm, target_names, title=\"GaussianNB - Confusion Matrix\")\n",
    "\n",
    "    # 10. Example: map predicted labels to class names\n",
    "    sample_preds = model.predict(X_test[:5])\n",
    "    sample_preds_names = [class_mapping[int(p)] for p in sample_preds]\n",
    "    print(\"Example predictions (first 5 samples of test set):\")\n",
    "    for i, (pred, pred_name, true_label) in enumerate(zip(sample_preds, sample_preds_names, y_test[:5])):\n",
    "        print(f\"  sample {i}: predicted {pred} -> {pred_name}, true = {class_mapping[int(true_label)]}\")\n",
    "\n"
   ]
  },
  {
   "cell_type": "code",
   "execution_count": 12,
   "id": "dedf79a1",
   "metadata": {},
   "outputs": [
    {
     "name": "stdout",
     "output_type": "stream",
     "text": [
      "=== Data sample ===\n",
      " sepal length (cm)  sepal width (cm)  petal length (cm)  petal width (cm)  target target_name\n",
      "               5.1               3.5                1.4               0.2       0      setosa\n",
      "               4.9               3.0                1.4               0.2       0      setosa\n",
      "               4.7               3.2                1.3               0.2       0      setosa\n",
      "               4.6               3.1                1.5               0.2       0      setosa\n",
      "               5.0               3.6                1.4               0.2       0      setosa\n",
      "               5.4               3.9                1.7               0.4       0      setosa\n",
      "               4.6               3.4                1.4               0.3       0      setosa\n",
      "               5.0               3.4                1.5               0.2       0      setosa\n",
      "\n",
      "Class mapping: {0: 'setosa', 1: 'versicolor', 2: 'virginica'}\n",
      "\n",
      "Test accuracy: 1.0000\n",
      "\n",
      "Classification report:\n",
      "              precision    recall  f1-score   support\n",
      "\n",
      "      setosa       1.00      1.00      1.00        13\n",
      "  versicolor       1.00      1.00      1.00        13\n",
      "   virginica       1.00      1.00      1.00        12\n",
      "\n",
      "    accuracy                           1.00        38\n",
      "   macro avg       1.00      1.00      1.00        38\n",
      "weighted avg       1.00      1.00      1.00        38\n",
      "\n",
      "Confusion matrix:\n",
      "[[13  0  0]\n",
      " [ 0 13  0]\n",
      " [ 0  0 12]]\n",
      "\n",
      "5-fold CV accuracy: mean=0.9533, std=0.0267\n",
      "\n"
     ]
    },
    {
     "data": {
      "image/png": "[encoded data removed]",
      "text/plain": [
       "<Figure size 600x500 with 2 Axes>"
      ]
     },
     "metadata": {},
     "output_type": "display_data"
    },
    {
     "name": "stdout",
     "output_type": "stream",
     "text": [
      "Example predictions (first 5 samples of test set):\n",
      "  sample 0: predicted 1 -> versicolor, true = versicolor\n",
      "  sample 1: predicted 2 -> virginica, true = virginica\n",
      "  sample 2: predicted 0 -> setosa, true = setosa\n",
      "  sample 3: predicted 1 -> versicolor, true = versicolor\n",
      "  sample 4: predicted 0 -> setosa, true = setosa\n"
     ]
    }
   ],
   "source": [
    "if __name__ == \"__main__\":\n",
    "    main()"
   ]
  }
 ],
 "metadata": {
  "kernelspec": {
   "display_name": "Python 3",
   "language": "python",
   "name": "python3"
  },
  "language_info": {
   "codemirror_mode": {
    "name": "ipython",
    "version": 3
   },
   "file_extension": ".py",
   "mimetype": "text/x-python",
   "name": "python",
   "nbconvert_exporter": "python",
   "pygments_lexer": "ipython3",
   "version": "3.13.7"
  }
 },
 "nbformat": 4,
 "nbformat_minor": 5
}
